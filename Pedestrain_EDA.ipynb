{
  "nbformat": 4,
  "nbformat_minor": 0,
  "metadata": {
    "colab": {
      "name": "Pedestrain_EDA.ipynb",
      "provenance": [],
      "collapsed_sections": [],
      "toc_visible": true,
      "include_colab_link": true
    },
    "kernelspec": {
      "name": "python3",
      "display_name": "Python 3"
    }
  },
  "cells": [
    {
      "cell_type": "markdown",
      "metadata": {
        "id": "view-in-github",
        "colab_type": "text"
      },
      "source": [
        "<a href=\"https://colab.research.google.com/github/migapipo/GoogleCodeLab/blob/master/Pedestrain_EDA.ipynb\" target=\"_parent\"><img src=\"https://colab.research.google.com/assets/colab-badge.svg\" alt=\"Open In Colab\"/></a>"
      ]
    },
    {
      "cell_type": "code",
      "metadata": {
        "id": "JnNAZtB3I-BZ",
        "colab_type": "code",
        "colab": {}
      },
      "source": [
        "# Mount drive\n",
        "from google.colab import drive\n",
        "drive.mount('/content/drive')"
      ],
      "execution_count": 0,
      "outputs": []
    },
    {
      "cell_type": "markdown",
      "metadata": {
        "colab_type": "text",
        "id": "GJBs_flRovLc"
      },
      "source": [
        "\n",
        "\n",
        "# Exploratory Data Analysis - Pedestrian Data\n",
        "\n",
        "##1.1 Overview of features and relation to target\n",
        "\n",
        "- How many rows and columns are there?\n",
        "- What are the names of the features (columns)?\n",
        "- Which features are numerical, which are categorical?\n",
        "- How many values are missing?\n",
        "\n",
        "The **shape** and **info** methods answer these questions\n",
        "\n",
        "**head** displays some rows of the dataset\n",
        "**describe** gives a summary of the statistics (only for numerical columns)"
      ]
    },
    {
      "cell_type": "code",
      "metadata": {
        "id": "Wh6HFQsB5vbZ",
        "colab_type": "code",
        "colab": {}
      },
      "source": [
        "import pandas as pd\n",
        "import numpy as np\n",
        "# Load data\n",
        "df_sensor_locations = pd.read_csv(\"/content/pedestrian_data/Pedestrian_Counting_System_-_Sensor_Locations.csv\")"
      ],
      "execution_count": 0,
      "outputs": []
    },
    {
      "cell_type": "code",
      "metadata": {
        "id": "-4BfHjCJ-gXI",
        "colab_type": "code",
        "outputId": "fdf57fa9-2766-4893-c623-6055643fe398",
        "colab": {
          "base_uri": "https://localhost:8080/",
          "height": 34
        }
      },
      "source": [
        "df_sensor_locations.shape"
      ],
      "execution_count": 0,
      "outputs": [
        {
          "output_type": "execute_result",
          "data": {
            "text/plain": [
              "(62, 11)"
            ]
          },
          "metadata": {
            "tags": []
          },
          "execution_count": 15
        }
      ]
    },
    {
      "cell_type": "markdown",
      "metadata": {
        "id": "MOUmWpxm_9iP",
        "colab_type": "text"
      },
      "source": [
        "- Dataset comprises of 62 rows and 11 columns.\n"
      ]
    },
    {
      "cell_type": "code",
      "metadata": {
        "id": "KmEBLuTD_Omq",
        "colab_type": "code",
        "outputId": "efe4bfe3-2507-42de-ab30-1edccf5b205c",
        "colab": {
          "base_uri": "https://localhost:8080/",
          "height": 289
        }
      },
      "source": [
        "df_sensor_locations.info()"
      ],
      "execution_count": 0,
      "outputs": [
        {
          "output_type": "stream",
          "text": [
            "<class 'pandas.core.frame.DataFrame'>\n",
            "RangeIndex: 62 entries, 0 to 61\n",
            "Data columns (total 11 columns):\n",
            "sensor_id             62 non-null int64\n",
            "sensor_description    62 non-null object\n",
            "sensor_name           62 non-null object\n",
            "installation_date     62 non-null object\n",
            "status                62 non-null object\n",
            "note                  5 non-null object\n",
            "direction_1           58 non-null object\n",
            "direction_2           58 non-null object\n",
            "latitude              62 non-null float64\n",
            "longitude             62 non-null float64\n",
            "location              62 non-null object\n",
            "dtypes: float64(2), int64(1), object(8)\n",
            "memory usage: 5.5+ KB\n"
          ],
          "name": "stdout"
        }
      ]
    },
    {
      "cell_type": "markdown",
      "metadata": {
        "id": "fabhFIpmATwt",
        "colab_type": "text"
      },
      "source": [
        "- Data has *float*, *integer* and *object* values.\n",
        "- No variable column has null/missing values."
      ]
    },
    {
      "cell_type": "code",
      "metadata": {
        "id": "Y8bBWb8BCHNe",
        "colab_type": "code",
        "outputId": "ef67e605-c734-4bf1-b4e4-a4d62a0d02de",
        "colab": {
          "base_uri": "https://localhost:8080/",
          "height": 309
        }
      },
      "source": [
        "df_sensor_locations.head()"
      ],
      "execution_count": 0,
      "outputs": [
        {
          "output_type": "execute_result",
          "data": {
            "text/html": [
              "<div>\n",
              "<style scoped>\n",
              "    .dataframe tbody tr th:only-of-type {\n",
              "        vertical-align: middle;\n",
              "    }\n",
              "\n",
              "    .dataframe tbody tr th {\n",
              "        vertical-align: top;\n",
              "    }\n",
              "\n",
              "    .dataframe thead th {\n",
              "        text-align: right;\n",
              "    }\n",
              "</style>\n",
              "<table border=\"1\" class=\"dataframe\">\n",
              "  <thead>\n",
              "    <tr style=\"text-align: right;\">\n",
              "      <th></th>\n",
              "      <th>sensor_id</th>\n",
              "      <th>sensor_description</th>\n",
              "      <th>sensor_name</th>\n",
              "      <th>installation_date</th>\n",
              "      <th>status</th>\n",
              "      <th>note</th>\n",
              "      <th>direction_1</th>\n",
              "      <th>direction_2</th>\n",
              "      <th>latitude</th>\n",
              "      <th>longitude</th>\n",
              "      <th>location</th>\n",
              "    </tr>\n",
              "  </thead>\n",
              "  <tbody>\n",
              "    <tr>\n",
              "      <th>0</th>\n",
              "      <td>59</td>\n",
              "      <td>Building 80 RMIT</td>\n",
              "      <td>RMIT_T</td>\n",
              "      <td>2019/02/13</td>\n",
              "      <td>A</td>\n",
              "      <td>NaN</td>\n",
              "      <td>North</td>\n",
              "      <td>South</td>\n",
              "      <td>-37.808256</td>\n",
              "      <td>144.963049</td>\n",
              "      <td>(-37.80825648, 144.96304859)</td>\n",
              "    </tr>\n",
              "    <tr>\n",
              "      <th>1</th>\n",
              "      <td>23</td>\n",
              "      <td>Spencer St-Collins St (South)</td>\n",
              "      <td>Col623_T</td>\n",
              "      <td>2013/09/02</td>\n",
              "      <td>A</td>\n",
              "      <td>NaN</td>\n",
              "      <td>East</td>\n",
              "      <td>West</td>\n",
              "      <td>-37.819093</td>\n",
              "      <td>144.954527</td>\n",
              "      <td>(-37.81909256, 144.95452749)</td>\n",
              "    </tr>\n",
              "    <tr>\n",
              "      <th>2</th>\n",
              "      <td>20</td>\n",
              "      <td>Chinatown-Lt Bourke St (South)</td>\n",
              "      <td>LtB170_T</td>\n",
              "      <td>2013/09/06</td>\n",
              "      <td>A</td>\n",
              "      <td>NaN</td>\n",
              "      <td>East</td>\n",
              "      <td>West</td>\n",
              "      <td>-37.811729</td>\n",
              "      <td>144.968247</td>\n",
              "      <td>(-37.81172913, 144.9682466)</td>\n",
              "    </tr>\n",
              "    <tr>\n",
              "      <th>3</th>\n",
              "      <td>34</td>\n",
              "      <td>Flinders St-Spark La</td>\n",
              "      <td>Fli32_T</td>\n",
              "      <td>2014/06/08</td>\n",
              "      <td>A</td>\n",
              "      <td>NaN</td>\n",
              "      <td>East</td>\n",
              "      <td>West</td>\n",
              "      <td>-37.815380</td>\n",
              "      <td>144.974150</td>\n",
              "      <td>(-37.81537985, 144.9741505)</td>\n",
              "    </tr>\n",
              "    <tr>\n",
              "      <th>4</th>\n",
              "      <td>57</td>\n",
              "      <td>Bourke St Bridge</td>\n",
              "      <td>BouBri_T</td>\n",
              "      <td>2018/08/13</td>\n",
              "      <td>A</td>\n",
              "      <td>NaN</td>\n",
              "      <td>West</td>\n",
              "      <td>East</td>\n",
              "      <td>-37.817673</td>\n",
              "      <td>144.950256</td>\n",
              "      <td>(-37.8176735, 144.95025595)</td>\n",
              "    </tr>\n",
              "  </tbody>\n",
              "</table>\n",
              "</div>"
            ],
            "text/plain": [
              "   sensor_id  ...                      location\n",
              "0         59  ...  (-37.80825648, 144.96304859)\n",
              "1         23  ...  (-37.81909256, 144.95452749)\n",
              "2         20  ...   (-37.81172913, 144.9682466)\n",
              "3         34  ...   (-37.81537985, 144.9741505)\n",
              "4         57  ...   (-37.8176735, 144.95025595)\n",
              "\n",
              "[5 rows x 11 columns]"
            ]
          },
          "metadata": {
            "tags": []
          },
          "execution_count": 16
        }
      ]
    },
    {
      "cell_type": "markdown",
      "metadata": {
        "id": "0DdJbXaDDdrm",
        "colab_type": "text"
      },
      "source": [
        "To take a closer look at the data took help of “ .head()”function of pandas library which returns first five observations of the data set.Similarly “.tail()” returns last five observations of the data set."
      ]
    }
  ]
}