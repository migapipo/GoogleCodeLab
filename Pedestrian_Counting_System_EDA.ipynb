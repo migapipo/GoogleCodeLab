{
  "nbformat": 4,
  "nbformat_minor": 0,
  "metadata": {
    "colab": {
      "name": "Pedestrian Counting System_EDA.ipynb",
      "provenance": [],
      "collapsed_sections": [],
      "include_colab_link": true
    },
    "kernelspec": {
      "name": "python3",
      "display_name": "Python 3"
    }
  },
  "cells": [
    {
      "cell_type": "markdown",
      "metadata": {
        "id": "view-in-github",
        "colab_type": "text"
      },
      "source": [
        "<a href=\"https://colab.research.google.com/github/migapipo/GoogleCodeLab/blob/master/Pedestrian_Counting_System_EDA.ipynb\" target=\"_parent\"><img src=\"https://colab.research.google.com/assets/colab-badge.svg\" alt=\"Open In Colab\"/></a>"
      ]
    },
    {
      "cell_type": "code",
      "metadata": {
        "id": "qgLG_IQuI_7T",
        "colab_type": "code",
        "colab": {
          "base_uri": "https://localhost:8080/",
          "height": 122
        },
        "outputId": "a4e3f21a-6e0c-48e1-f6d3-5ef2c38b17d5"
      },
      "source": [
        "# Mount drive\n",
        "from google.colab import drive\n",
        "drive.mount('/content/drive')"
      ],
      "execution_count": 1,
      "outputs": [
        {
          "output_type": "stream",
          "text": [
            "Go to this URL in a browser: https://accounts.google.com/o/oauth2/auth?client_id=947318989803-6bn6qk8qdgf4n4g3pfee6491hc0brc4i.apps.googleusercontent.com&redirect_uri=urn%3Aietf%3Awg%3Aoauth%3A2.0%3Aoob&scope=email%20https%3A%2F%2Fwww.googleapis.com%2Fauth%2Fdocs.test%20https%3A%2F%2Fwww.googleapis.com%2Fauth%2Fdrive%20https%3A%2F%2Fwww.googleapis.com%2Fauth%2Fdrive.photos.readonly%20https%3A%2F%2Fwww.googleapis.com%2Fauth%2Fpeopleapi.readonly&response_type=code\n",
            "\n",
            "Enter your authorization code:\n",
            "··········\n",
            "Mounted at /content/drive\n"
          ],
          "name": "stdout"
        }
      ]
    },
    {
      "cell_type": "code",
      "metadata": {
        "id": "66tpfWKnF7PU",
        "colab_type": "code",
        "colab": {}
      },
      "source": [
        "# Import required packages \n",
        "import pandas as pd\n",
        "import numpy as np\n",
        "import datetime\n",
        "import matplotlib.pyplot as plt\n",
        "import seaborn as sns\n",
        "from scipy import stats"
      ],
      "execution_count": 0,
      "outputs": []
    },
    {
      "cell_type": "code",
      "metadata": {
        "id": "d0XWGL1TZdMX",
        "colab_type": "code",
        "colab": {}
      },
      "source": [
        "# Load data\n",
        "df_pedestrian = pd.read_csv(\"/content/drive/My Drive/Pedestrian Data/Pedestrian_Counting_System___2009_to_Present__counts_per_hour_.csv\")"
      ],
      "execution_count": 0,
      "outputs": []
    },
    {
      "cell_type": "code",
      "metadata": {
        "id": "9Z309d8ZXfbe",
        "colab_type": "code",
        "colab": {
          "base_uri": "https://localhost:8080/",
          "height": 34
        },
        "outputId": "956d47a6-e3c8-465d-ae09-a66279e9647f"
      },
      "source": [
        "df_pedestrian.shape"
      ],
      "execution_count": 4,
      "outputs": [
        {
          "output_type": "execute_result",
          "data": {
            "text/plain": [
              "(2809167, 10)"
            ]
          },
          "metadata": {
            "tags": []
          },
          "execution_count": 4
        }
      ]
    },
    {
      "cell_type": "markdown",
      "metadata": {
        "id": "Bp-L1OPtYAe0",
        "colab_type": "text"
      },
      "source": [
        "- Dataset comprises of 2809167 rows and 10 columns.\n"
      ]
    },
    {
      "cell_type": "code",
      "metadata": {
        "id": "Muxck0o_XlLP",
        "colab_type": "code",
        "colab": {
          "base_uri": "https://localhost:8080/",
          "height": 272
        },
        "outputId": "6e4ddf79-a70a-4ff3-f0e8-3119ad47f77a"
      },
      "source": [
        "df_pedestrian.info()"
      ],
      "execution_count": 5,
      "outputs": [
        {
          "output_type": "stream",
          "text": [
            "<class 'pandas.core.frame.DataFrame'>\n",
            "RangeIndex: 2809167 entries, 0 to 2809166\n",
            "Data columns (total 10 columns):\n",
            "ID               int64\n",
            "Date_Time        object\n",
            "Year             int64\n",
            "Month            object\n",
            "Mdate            int64\n",
            "Day              object\n",
            "Time             int64\n",
            "Sensor_ID        int64\n",
            "Sensor_Name      object\n",
            "Hourly_Counts    int64\n",
            "dtypes: int64(6), object(4)\n",
            "memory usage: 214.3+ MB\n"
          ],
          "name": "stdout"
        }
      ]
    },
    {
      "cell_type": "markdown",
      "metadata": {
        "id": "vM1GyV6ZYIx7",
        "colab_type": "text"
      },
      "source": [
        "- Data has *integer* and *object* values.\n",
        "- No variable column has null/missing values."
      ]
    },
    {
      "cell_type": "code",
      "metadata": {
        "id": "Yk37-bZdXQ4f",
        "colab_type": "code",
        "colab": {
          "base_uri": "https://localhost:8080/",
          "height": 204
        },
        "outputId": "bddf94c8-e94b-4fd7-a2a9-82ab4c13db12"
      },
      "source": [
        "df_pedestrian.head()"
      ],
      "execution_count": 6,
      "outputs": [
        {
          "output_type": "execute_result",
          "data": {
            "text/html": [
              "<div>\n",
              "<style scoped>\n",
              "    .dataframe tbody tr th:only-of-type {\n",
              "        vertical-align: middle;\n",
              "    }\n",
              "\n",
              "    .dataframe tbody tr th {\n",
              "        vertical-align: top;\n",
              "    }\n",
              "\n",
              "    .dataframe thead th {\n",
              "        text-align: right;\n",
              "    }\n",
              "</style>\n",
              "<table border=\"1\" class=\"dataframe\">\n",
              "  <thead>\n",
              "    <tr style=\"text-align: right;\">\n",
              "      <th></th>\n",
              "      <th>ID</th>\n",
              "      <th>Date_Time</th>\n",
              "      <th>Year</th>\n",
              "      <th>Month</th>\n",
              "      <th>Mdate</th>\n",
              "      <th>Day</th>\n",
              "      <th>Time</th>\n",
              "      <th>Sensor_ID</th>\n",
              "      <th>Sensor_Name</th>\n",
              "      <th>Hourly_Counts</th>\n",
              "    </tr>\n",
              "  </thead>\n",
              "  <tbody>\n",
              "    <tr>\n",
              "      <th>0</th>\n",
              "      <td>1</td>\n",
              "      <td>05/01/2009 12:00:00 AM</td>\n",
              "      <td>2009</td>\n",
              "      <td>May</td>\n",
              "      <td>1</td>\n",
              "      <td>Monday</td>\n",
              "      <td>0</td>\n",
              "      <td>1</td>\n",
              "      <td>Bourke Street Mall (North)</td>\n",
              "      <td>53</td>\n",
              "    </tr>\n",
              "    <tr>\n",
              "      <th>1</th>\n",
              "      <td>2</td>\n",
              "      <td>05/01/2009 12:00:00 AM</td>\n",
              "      <td>2009</td>\n",
              "      <td>May</td>\n",
              "      <td>1</td>\n",
              "      <td>Monday</td>\n",
              "      <td>0</td>\n",
              "      <td>2</td>\n",
              "      <td>Bourke Street Mall (South)</td>\n",
              "      <td>52</td>\n",
              "    </tr>\n",
              "    <tr>\n",
              "      <th>2</th>\n",
              "      <td>3</td>\n",
              "      <td>05/01/2009 12:00:00 AM</td>\n",
              "      <td>2009</td>\n",
              "      <td>May</td>\n",
              "      <td>1</td>\n",
              "      <td>Monday</td>\n",
              "      <td>0</td>\n",
              "      <td>4</td>\n",
              "      <td>Town Hall (West)</td>\n",
              "      <td>209</td>\n",
              "    </tr>\n",
              "    <tr>\n",
              "      <th>3</th>\n",
              "      <td>4</td>\n",
              "      <td>05/01/2009 12:00:00 AM</td>\n",
              "      <td>2009</td>\n",
              "      <td>May</td>\n",
              "      <td>1</td>\n",
              "      <td>Monday</td>\n",
              "      <td>0</td>\n",
              "      <td>5</td>\n",
              "      <td>Princes Bridge</td>\n",
              "      <td>157</td>\n",
              "    </tr>\n",
              "    <tr>\n",
              "      <th>4</th>\n",
              "      <td>5</td>\n",
              "      <td>05/01/2009 12:00:00 AM</td>\n",
              "      <td>2009</td>\n",
              "      <td>May</td>\n",
              "      <td>1</td>\n",
              "      <td>Monday</td>\n",
              "      <td>0</td>\n",
              "      <td>6</td>\n",
              "      <td>Flinders Street Station Underpass</td>\n",
              "      <td>139</td>\n",
              "    </tr>\n",
              "  </tbody>\n",
              "</table>\n",
              "</div>"
            ],
            "text/plain": [
              "   ID               Date_Time  ...                        Sensor_Name Hourly_Counts\n",
              "0   1  05/01/2009 12:00:00 AM  ...         Bourke Street Mall (North)            53\n",
              "1   2  05/01/2009 12:00:00 AM  ...         Bourke Street Mall (South)            52\n",
              "2   3  05/01/2009 12:00:00 AM  ...                   Town Hall (West)           209\n",
              "3   4  05/01/2009 12:00:00 AM  ...                     Princes Bridge           157\n",
              "4   5  05/01/2009 12:00:00 AM  ...  Flinders Street Station Underpass           139\n",
              "\n",
              "[5 rows x 10 columns]"
            ]
          },
          "metadata": {
            "tags": []
          },
          "execution_count": 6
        }
      ]
    },
    {
      "cell_type": "code",
      "metadata": {
        "id": "bDWpJjXSYmyI",
        "colab_type": "code",
        "colab": {
          "base_uri": "https://localhost:8080/",
          "height": 297
        },
        "outputId": "68c3b34a-05fb-42cd-a866-07e71e32ee92"
      },
      "source": [
        "df_pedestrian.describe()"
      ],
      "execution_count": 7,
      "outputs": [
        {
          "output_type": "execute_result",
          "data": {
            "text/html": [
              "<div>\n",
              "<style scoped>\n",
              "    .dataframe tbody tr th:only-of-type {\n",
              "        vertical-align: middle;\n",
              "    }\n",
              "\n",
              "    .dataframe tbody tr th {\n",
              "        vertical-align: top;\n",
              "    }\n",
              "\n",
              "    .dataframe thead th {\n",
              "        text-align: right;\n",
              "    }\n",
              "</style>\n",
              "<table border=\"1\" class=\"dataframe\">\n",
              "  <thead>\n",
              "    <tr style=\"text-align: right;\">\n",
              "      <th></th>\n",
              "      <th>ID</th>\n",
              "      <th>Year</th>\n",
              "      <th>Mdate</th>\n",
              "      <th>Time</th>\n",
              "      <th>Sensor_ID</th>\n",
              "      <th>Hourly_Counts</th>\n",
              "    </tr>\n",
              "  </thead>\n",
              "  <tbody>\n",
              "    <tr>\n",
              "      <th>count</th>\n",
              "      <td>2.809167e+06</td>\n",
              "      <td>2.809167e+06</td>\n",
              "      <td>2.809167e+06</td>\n",
              "      <td>2.809167e+06</td>\n",
              "      <td>2.809167e+06</td>\n",
              "      <td>2.809167e+06</td>\n",
              "    </tr>\n",
              "    <tr>\n",
              "      <th>mean</th>\n",
              "      <td>1.404584e+06</td>\n",
              "      <td>2.015169e+03</td>\n",
              "      <td>1.574816e+01</td>\n",
              "      <td>1.145095e+01</td>\n",
              "      <td>2.068472e+01</td>\n",
              "      <td>6.138073e+02</td>\n",
              "    </tr>\n",
              "    <tr>\n",
              "      <th>std</th>\n",
              "      <td>8.109368e+05</td>\n",
              "      <td>2.840638e+00</td>\n",
              "      <td>8.801661e+00</td>\n",
              "      <td>6.948189e+00</td>\n",
              "      <td>1.450315e+01</td>\n",
              "      <td>8.423395e+02</td>\n",
              "    </tr>\n",
              "    <tr>\n",
              "      <th>min</th>\n",
              "      <td>1.000000e+00</td>\n",
              "      <td>2.009000e+03</td>\n",
              "      <td>1.000000e+00</td>\n",
              "      <td>0.000000e+00</td>\n",
              "      <td>1.000000e+00</td>\n",
              "      <td>0.000000e+00</td>\n",
              "    </tr>\n",
              "    <tr>\n",
              "      <th>25%</th>\n",
              "      <td>7.022925e+05</td>\n",
              "      <td>2.013000e+03</td>\n",
              "      <td>8.000000e+00</td>\n",
              "      <td>5.000000e+00</td>\n",
              "      <td>9.000000e+00</td>\n",
              "      <td>6.300000e+01</td>\n",
              "    </tr>\n",
              "    <tr>\n",
              "      <th>50%</th>\n",
              "      <td>1.404584e+06</td>\n",
              "      <td>2.016000e+03</td>\n",
              "      <td>1.600000e+01</td>\n",
              "      <td>1.100000e+01</td>\n",
              "      <td>1.700000e+01</td>\n",
              "      <td>2.510000e+02</td>\n",
              "    </tr>\n",
              "    <tr>\n",
              "      <th>75%</th>\n",
              "      <td>2.106876e+06</td>\n",
              "      <td>2.018000e+03</td>\n",
              "      <td>2.300000e+01</td>\n",
              "      <td>1.700000e+01</td>\n",
              "      <td>3.100000e+01</td>\n",
              "      <td>8.200000e+02</td>\n",
              "    </tr>\n",
              "    <tr>\n",
              "      <th>max</th>\n",
              "      <td>2.809167e+06</td>\n",
              "      <td>2.019000e+03</td>\n",
              "      <td>3.100000e+01</td>\n",
              "      <td>2.300000e+01</td>\n",
              "      <td>6.100000e+01</td>\n",
              "      <td>1.228900e+04</td>\n",
              "    </tr>\n",
              "  </tbody>\n",
              "</table>\n",
              "</div>"
            ],
            "text/plain": [
              "                 ID          Year  ...     Sensor_ID  Hourly_Counts\n",
              "count  2.809167e+06  2.809167e+06  ...  2.809167e+06   2.809167e+06\n",
              "mean   1.404584e+06  2.015169e+03  ...  2.068472e+01   6.138073e+02\n",
              "std    8.109368e+05  2.840638e+00  ...  1.450315e+01   8.423395e+02\n",
              "min    1.000000e+00  2.009000e+03  ...  1.000000e+00   0.000000e+00\n",
              "25%    7.022925e+05  2.013000e+03  ...  9.000000e+00   6.300000e+01\n",
              "50%    1.404584e+06  2.016000e+03  ...  1.700000e+01   2.510000e+02\n",
              "75%    2.106876e+06  2.018000e+03  ...  3.100000e+01   8.200000e+02\n",
              "max    2.809167e+06  2.019000e+03  ...  6.100000e+01   1.228900e+04\n",
              "\n",
              "[8 rows x 6 columns]"
            ]
          },
          "metadata": {
            "tags": []
          },
          "execution_count": 7
        }
      ]
    },
    {
      "cell_type": "code",
      "metadata": {
        "id": "8U5WRB88e3cI",
        "colab_type": "code",
        "colab": {
          "base_uri": "https://localhost:8080/",
          "height": 204
        },
        "outputId": "e4d93cc6-f467-4bbc-85d9-666a81f544a8"
      },
      "source": [
        "df_pedestrian.head()"
      ],
      "execution_count": 8,
      "outputs": [
        {
          "output_type": "execute_result",
          "data": {
            "text/html": [
              "<div>\n",
              "<style scoped>\n",
              "    .dataframe tbody tr th:only-of-type {\n",
              "        vertical-align: middle;\n",
              "    }\n",
              "\n",
              "    .dataframe tbody tr th {\n",
              "        vertical-align: top;\n",
              "    }\n",
              "\n",
              "    .dataframe thead th {\n",
              "        text-align: right;\n",
              "    }\n",
              "</style>\n",
              "<table border=\"1\" class=\"dataframe\">\n",
              "  <thead>\n",
              "    <tr style=\"text-align: right;\">\n",
              "      <th></th>\n",
              "      <th>ID</th>\n",
              "      <th>Date_Time</th>\n",
              "      <th>Year</th>\n",
              "      <th>Month</th>\n",
              "      <th>Mdate</th>\n",
              "      <th>Day</th>\n",
              "      <th>Time</th>\n",
              "      <th>Sensor_ID</th>\n",
              "      <th>Sensor_Name</th>\n",
              "      <th>Hourly_Counts</th>\n",
              "    </tr>\n",
              "  </thead>\n",
              "  <tbody>\n",
              "    <tr>\n",
              "      <th>0</th>\n",
              "      <td>1</td>\n",
              "      <td>05/01/2009 12:00:00 AM</td>\n",
              "      <td>2009</td>\n",
              "      <td>May</td>\n",
              "      <td>1</td>\n",
              "      <td>Monday</td>\n",
              "      <td>0</td>\n",
              "      <td>1</td>\n",
              "      <td>Bourke Street Mall (North)</td>\n",
              "      <td>53</td>\n",
              "    </tr>\n",
              "    <tr>\n",
              "      <th>1</th>\n",
              "      <td>2</td>\n",
              "      <td>05/01/2009 12:00:00 AM</td>\n",
              "      <td>2009</td>\n",
              "      <td>May</td>\n",
              "      <td>1</td>\n",
              "      <td>Monday</td>\n",
              "      <td>0</td>\n",
              "      <td>2</td>\n",
              "      <td>Bourke Street Mall (South)</td>\n",
              "      <td>52</td>\n",
              "    </tr>\n",
              "    <tr>\n",
              "      <th>2</th>\n",
              "      <td>3</td>\n",
              "      <td>05/01/2009 12:00:00 AM</td>\n",
              "      <td>2009</td>\n",
              "      <td>May</td>\n",
              "      <td>1</td>\n",
              "      <td>Monday</td>\n",
              "      <td>0</td>\n",
              "      <td>4</td>\n",
              "      <td>Town Hall (West)</td>\n",
              "      <td>209</td>\n",
              "    </tr>\n",
              "    <tr>\n",
              "      <th>3</th>\n",
              "      <td>4</td>\n",
              "      <td>05/01/2009 12:00:00 AM</td>\n",
              "      <td>2009</td>\n",
              "      <td>May</td>\n",
              "      <td>1</td>\n",
              "      <td>Monday</td>\n",
              "      <td>0</td>\n",
              "      <td>5</td>\n",
              "      <td>Princes Bridge</td>\n",
              "      <td>157</td>\n",
              "    </tr>\n",
              "    <tr>\n",
              "      <th>4</th>\n",
              "      <td>5</td>\n",
              "      <td>05/01/2009 12:00:00 AM</td>\n",
              "      <td>2009</td>\n",
              "      <td>May</td>\n",
              "      <td>1</td>\n",
              "      <td>Monday</td>\n",
              "      <td>0</td>\n",
              "      <td>6</td>\n",
              "      <td>Flinders Street Station Underpass</td>\n",
              "      <td>139</td>\n",
              "    </tr>\n",
              "  </tbody>\n",
              "</table>\n",
              "</div>"
            ],
            "text/plain": [
              "   ID               Date_Time  ...                        Sensor_Name Hourly_Counts\n",
              "0   1  05/01/2009 12:00:00 AM  ...         Bourke Street Mall (North)            53\n",
              "1   2  05/01/2009 12:00:00 AM  ...         Bourke Street Mall (South)            52\n",
              "2   3  05/01/2009 12:00:00 AM  ...                   Town Hall (West)           209\n",
              "3   4  05/01/2009 12:00:00 AM  ...                     Princes Bridge           157\n",
              "4   5  05/01/2009 12:00:00 AM  ...  Flinders Street Station Underpass           139\n",
              "\n",
              "[5 rows x 10 columns]"
            ]
          },
          "metadata": {
            "tags": []
          },
          "execution_count": 8
        }
      ]
    },
    {
      "cell_type": "code",
      "metadata": {
        "id": "HT31KdHdfG74",
        "colab_type": "code",
        "colab": {
          "base_uri": "https://localhost:8080/",
          "height": 279
        },
        "outputId": "a4435859-f1bf-4173-a4c0-7497498e183c"
      },
      "source": [
        "sns.distplot(df_pedestrian['Year'],hist=True, kde=True,bins=20,color = 'darkblue',\n",
        "             hist_kws={'edgecolor':'black'}, kde_kws={'linewidth': 4});\n",
        "\n"
      ],
      "execution_count": 23,
      "outputs": [
        {
          "output_type": "display_data",
          "data": {
            "image/png": "[encoded data removed]",
            "text/plain": [
              "<Figure size 432x288 with 1 Axes>"
            ]
          },
          "metadata": {
            "tags": []
          }
        }
      ]
    },
    {
      "cell_type": "code",
      "metadata": {
        "id": "XpeV8-YS15S_",
        "colab_type": "code",
        "colab": {
          "base_uri": "https://localhost:8080/",
          "height": 280
        },
        "outputId": "01b21f31-b67f-4358-c748-9ada8cf2b51b"
      },
      "source": [
        "sns.distplot(df_pedestrian['Hourly_Counts'],hist=True, kde=True,bins=20,color = 'darkblue',\n",
        "             hist_kws={'edgecolor':'black'}, kde_kws={'linewidth': 4});"
      ],
      "execution_count": 25,
      "outputs": [
        {
          "output_type": "display_data",
          "data": {
            "image/png": "[encoded data removed]",
            "text/plain": [
              "<Figure size 432x288 with 1 Axes>"
            ]
          },
          "metadata": {
            "tags": []
          }
        }
      ]
    }
  ]
}